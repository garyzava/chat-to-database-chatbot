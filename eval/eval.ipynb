{
 "cells": [
  {
   "cell_type": "markdown",
   "metadata": {},
   "source": [
    "Evaluation Space"
   ]
  },
  {
   "cell_type": "code",
   "execution_count": 1,
   "metadata": {},
   "outputs": [],
   "source": [
    "import numpy as np\n",
    "import pandas as pd\n",
    "import sys\n",
    "import os\n",
    "import time\n",
    "from sqlfluff.core import Linter\n",
    "import re\n",
    "from difflib import SequenceMatcher\n",
    "from sqlrespcompare import run_compare_query_results"
   ]
  },
  {
   "cell_type": "code",
   "execution_count": 2,
   "metadata": {},
   "outputs": [
    {
     "name": "stdout",
     "output_type": "stream",
     "text": [
      "['/usr/lib/python311.zip', '/usr/lib/python3.11', '/usr/lib/python3.11/lib-dynload', '', '/home/kengqiangmk/Projects/chat-to-database-chatbot/venv/lib/python3.11/site-packages']\n"
     ]
    }
   ],
   "source": [
    "print(sys.path)"
   ]
  },
  {
   "cell_type": "code",
   "execution_count": 3,
   "metadata": {},
   "outputs": [],
   "source": [
    "\n",
    "\n",
    "# # Get the absolute path of the tools folder\n",
    "project_dir = os.path.abspath(\"..\")  # Assuming the eval folder is in the project folder\n",
    "chat2dbchatbot_dir = os.path.join(project_dir, \"chat2dbchatbot\")\n",
    "\n",
    "# # Add the tools directory to the system path\n",
    "sys.path.append(chat2dbchatbot_dir)\n"
   ]
  },
  {
   "cell_type": "code",
   "execution_count": 4,
   "metadata": {},
   "outputs": [
    {
     "data": {
      "application/vnd.jupyter.widget-view+json": {
       "model_id": "22207d63eda64a68a4d45a5d711d78bb",
       "version_major": 2,
       "version_minor": 0
      },
      "text/plain": [
       "modules.json:   0%|          | 0.00/349 [00:00<?, ?B/s]"
      ]
     },
     "metadata": {},
     "output_type": "display_data"
    },
    {
     "data": {
      "application/vnd.jupyter.widget-view+json": {
       "model_id": "a1fc520fb36d4a2f945e27fd0306c5f7",
       "version_major": 2,
       "version_minor": 0
      },
      "text/plain": [
       "config_sentence_transformers.json:   0%|          | 0.00/124 [00:00<?, ?B/s]"
      ]
     },
     "metadata": {},
     "output_type": "display_data"
    },
    {
     "data": {
      "application/vnd.jupyter.widget-view+json": {
       "model_id": "e3704f8b264f4c6f90da20603e3b460e",
       "version_major": 2,
       "version_minor": 0
      },
      "text/plain": [
       "README.md:   0%|          | 0.00/94.8k [00:00<?, ?B/s]"
      ]
     },
     "metadata": {},
     "output_type": "display_data"
    },
    {
     "data": {
      "application/vnd.jupyter.widget-view+json": {
       "model_id": "214a02e3d25f4572bf587db2e0cb91d8",
       "version_major": 2,
       "version_minor": 0
      },
      "text/plain": [
       "sentence_bert_config.json:   0%|          | 0.00/52.0 [00:00<?, ?B/s]"
      ]
     },
     "metadata": {},
     "output_type": "display_data"
    },
    {
     "data": {
      "application/vnd.jupyter.widget-view+json": {
       "model_id": "5d57656f47fc49b1b0dc10eeb2192814",
       "version_major": 2,
       "version_minor": 0
      },
      "text/plain": [
       "config.json:   0%|          | 0.00/743 [00:00<?, ?B/s]"
      ]
     },
     "metadata": {},
     "output_type": "display_data"
    },
    {
     "data": {
      "application/vnd.jupyter.widget-view+json": {
       "model_id": "4281f3ea960e46d2912d241de3b04c04",
       "version_major": 2,
       "version_minor": 0
      },
      "text/plain": [
       "model.safetensors:   0%|          | 0.00/133M [00:00<?, ?B/s]"
      ]
     },
     "metadata": {},
     "output_type": "display_data"
    },
    {
     "data": {
      "application/vnd.jupyter.widget-view+json": {
       "model_id": "6d17b63ee8854fa9aaf03c0c93e67d29",
       "version_major": 2,
       "version_minor": 0
      },
      "text/plain": [
       "tokenizer_config.json:   0%|          | 0.00/366 [00:00<?, ?B/s]"
      ]
     },
     "metadata": {},
     "output_type": "display_data"
    },
    {
     "data": {
      "application/vnd.jupyter.widget-view+json": {
       "model_id": "6deb550fd88343858143866e8e8673e5",
       "version_major": 2,
       "version_minor": 0
      },
      "text/plain": [
       "vocab.txt:   0%|          | 0.00/232k [00:00<?, ?B/s]"
      ]
     },
     "metadata": {},
     "output_type": "display_data"
    },
    {
     "data": {
      "application/vnd.jupyter.widget-view+json": {
       "model_id": "6db871e28bac42cf838c10c5820d43a8",
       "version_major": 2,
       "version_minor": 0
      },
      "text/plain": [
       "tokenizer.json:   0%|          | 0.00/711k [00:00<?, ?B/s]"
      ]
     },
     "metadata": {},
     "output_type": "display_data"
    },
    {
     "data": {
      "application/vnd.jupyter.widget-view+json": {
       "model_id": "675c7540bdfd46b9a0d0e559602d0c35",
       "version_major": 2,
       "version_minor": 0
      },
      "text/plain": [
       "special_tokens_map.json:   0%|          | 0.00/125 [00:00<?, ?B/s]"
      ]
     },
     "metadata": {},
     "output_type": "display_data"
    },
    {
     "data": {
      "application/vnd.jupyter.widget-view+json": {
       "model_id": "c50cdaef3c034c06bb9056c39bc5bc3a",
       "version_major": 2,
       "version_minor": 0
      },
      "text/plain": [
       "1_Pooling/config.json:   0%|          | 0.00/190 [00:00<?, ?B/s]"
      ]
     },
     "metadata": {},
     "output_type": "display_data"
    }
   ],
   "source": [
    "from tools.tagsql import run_tag_pipeline\n",
    "from tools.ragsql import run_rag_pipeline"
   ]
  },
  {
   "cell_type": "code",
   "execution_count": 5,
   "metadata": {},
   "outputs": [
    {
     "data": {
      "text/html": [
       "<div>\n",
       "<style scoped>\n",
       "    .dataframe tbody tr th:only-of-type {\n",
       "        vertical-align: middle;\n",
       "    }\n",
       "\n",
       "    .dataframe tbody tr th {\n",
       "        vertical-align: top;\n",
       "    }\n",
       "\n",
       "    .dataframe thead th {\n",
       "        text-align: right;\n",
       "    }\n",
       "</style>\n",
       "<table border=\"1\" class=\"dataframe\">\n",
       "  <thead>\n",
       "    <tr style=\"text-align: right;\">\n",
       "      <th></th>\n",
       "      <th>sql_complexity</th>\n",
       "      <th>sql_complexity_description</th>\n",
       "      <th>sql_prompt</th>\n",
       "      <th>sql</th>\n",
       "    </tr>\n",
       "  </thead>\n",
       "  <tbody>\n",
       "    <tr>\n",
       "      <th>0</th>\n",
       "      <td>basic SQL</td>\n",
       "      <td>basic SQL with a simple select statement</td>\n",
       "      <td>Show all invoices that were made during Christ...</td>\n",
       "      <td>SELECT * FROM invoice WHERE (TO_CHAR(invoice_d...</td>\n",
       "    </tr>\n",
       "    <tr>\n",
       "      <th>1</th>\n",
       "      <td>single join</td>\n",
       "      <td>only one join (specify inner, outer, cross)</td>\n",
       "      <td>Find the top 3 artists by total albums</td>\n",
       "      <td>SELECT AR.name, COUNT(AR.name) as TotalAlbums ...</td>\n",
       "    </tr>\n",
       "    <tr>\n",
       "      <th>2</th>\n",
       "      <td>aggregation and single join</td>\n",
       "      <td>aggregation functions (COUNT, SUM, AVG, MIN, M...</td>\n",
       "      <td>list classic composers and their corresponding...</td>\n",
       "      <td>SELECT T.composer, AVG(T.milliseconds) from tr...</td>\n",
       "    </tr>\n",
       "    <tr>\n",
       "      <th>3</th>\n",
       "      <td>basic SQL</td>\n",
       "      <td>basic SQL with a simple select statement</td>\n",
       "      <td>list all the countries our customers are from</td>\n",
       "      <td>SELECT distinct country from customer;</td>\n",
       "    </tr>\n",
       "    <tr>\n",
       "      <th>4</th>\n",
       "      <td>simple aggregation</td>\n",
       "      <td>basic SQL with a simple select statement</td>\n",
       "      <td>What is the total invoice amount by country?</td>\n",
       "      <td>SELECT billing_country, SUM(total) from invoic...</td>\n",
       "    </tr>\n",
       "  </tbody>\n",
       "</table>\n",
       "</div>"
      ],
      "text/plain": [
       "                sql_complexity  \\\n",
       "0                    basic SQL   \n",
       "1                  single join   \n",
       "2  aggregation and single join   \n",
       "3                    basic SQL   \n",
       "4           simple aggregation   \n",
       "\n",
       "                          sql_complexity_description  \\\n",
       "0           basic SQL with a simple select statement   \n",
       "1        only one join (specify inner, outer, cross)   \n",
       "2  aggregation functions (COUNT, SUM, AVG, MIN, M...   \n",
       "3           basic SQL with a simple select statement   \n",
       "4           basic SQL with a simple select statement   \n",
       "\n",
       "                                          sql_prompt  \\\n",
       "0  Show all invoices that were made during Christ...   \n",
       "1             Find the top 3 artists by total albums   \n",
       "2  list classic composers and their corresponding...   \n",
       "3      list all the countries our customers are from   \n",
       "4       What is the total invoice amount by country?   \n",
       "\n",
       "                                                 sql  \n",
       "0  SELECT * FROM invoice WHERE (TO_CHAR(invoice_d...  \n",
       "1  SELECT AR.name, COUNT(AR.name) as TotalAlbums ...  \n",
       "2  SELECT T.composer, AVG(T.milliseconds) from tr...  \n",
       "3             SELECT distinct country from customer;  \n",
       "4  SELECT billing_country, SUM(total) from invoic...  "
      ]
     },
     "execution_count": 5,
     "metadata": {},
     "output_type": "execute_result"
    }
   ],
   "source": [
    "eval_file_path = './data/custom_db_exp.csv'\n",
    "df = pd.read_csv(eval_file_path)\n",
    "df.head()"
   ]
  },
  {
   "cell_type": "code",
   "execution_count": 6,
   "metadata": {},
   "outputs": [
    {
     "name": "stdout",
     "output_type": "stream",
     "text": [
      "No vectors found. Creating new vector store...\n",
      "Error initializing vectors: Document files not found in either local or Docker paths\n",
      "Loading existing vectors from database...\n",
      "Empty Response\n"
     ]
    },
    {
     "ename": "TypeError",
     "evalue": "expected string or bytes-like object, got 'Response'",
     "output_type": "error",
     "traceback": [
      "\u001b[0;31m---------------------------------------------------------------------------\u001b[0m",
      "\u001b[0;31mTypeError\u001b[0m                                 Traceback (most recent call last)",
      "Cell \u001b[0;32mIn[6], line 29\u001b[0m\n\u001b[1;32m     20\u001b[0m \u001b[38;5;28mprint\u001b[39m(gen_sql_rag)\n\u001b[1;32m     21\u001b[0m \u001b[38;5;66;03m# lint_return_rag = linter.lint_string(gen_sql_rag)\u001b[39;00m\n\u001b[1;32m     22\u001b[0m \u001b[38;5;66;03m# if lint_return_rag.violations:\u001b[39;00m\n\u001b[1;32m     23\u001b[0m \u001b[38;5;66;03m#     for violation in lint_return_rag.violations:\u001b[39;00m\n\u001b[0;32m   (...)\u001b[0m\n\u001b[1;32m     27\u001b[0m \n\u001b[1;32m     28\u001b[0m \u001b[38;5;66;03m# compact_gen_sql_tag = re.sub(r\"\\s+\", \"\", gen_sql_tag).lower()\u001b[39;00m\n\u001b[0;32m---> 29\u001b[0m compact_gen_sql_rag \u001b[38;5;241m=\u001b[39m \u001b[43mre\u001b[49m\u001b[38;5;241;43m.\u001b[39;49m\u001b[43msub\u001b[49m\u001b[43m(\u001b[49m\u001b[38;5;124;43mr\u001b[39;49m\u001b[38;5;124;43m\"\u001b[39;49m\u001b[38;5;124;43m\\\u001b[39;49m\u001b[38;5;124;43ms+\u001b[39;49m\u001b[38;5;124;43m\"\u001b[39;49m\u001b[43m,\u001b[49m\u001b[43m \u001b[49m\u001b[38;5;124;43m\"\u001b[39;49m\u001b[38;5;124;43m\"\u001b[39;49m\u001b[43m,\u001b[49m\u001b[43m \u001b[49m\u001b[43mgen_sql_rag\u001b[49m\u001b[43m)\u001b[49m\u001b[38;5;241m.\u001b[39mlower()\n\u001b[1;32m     30\u001b[0m compact_sql \u001b[38;5;241m=\u001b[39m re\u001b[38;5;241m.\u001b[39msub(\u001b[38;5;124mr\u001b[39m\u001b[38;5;124m\"\u001b[39m\u001b[38;5;124m\\\u001b[39m\u001b[38;5;124ms+\u001b[39m\u001b[38;5;124m\"\u001b[39m, \u001b[38;5;124m\"\u001b[39m\u001b[38;5;124m\"\u001b[39m, df\u001b[38;5;241m.\u001b[39miloc[i][\u001b[38;5;124m'\u001b[39m\u001b[38;5;124msql\u001b[39m\u001b[38;5;124m'\u001b[39m])\u001b[38;5;241m.\u001b[39mlower()\n\u001b[1;32m     32\u001b[0m \u001b[38;5;66;03m# print(compact_gen_sql_tag)\u001b[39;00m\n",
      "File \u001b[0;32m/usr/lib/python3.11/re/__init__.py:185\u001b[0m, in \u001b[0;36msub\u001b[0;34m(pattern, repl, string, count, flags)\u001b[0m\n\u001b[1;32m    178\u001b[0m \u001b[38;5;28;01mdef\u001b[39;00m \u001b[38;5;21msub\u001b[39m(pattern, repl, string, count\u001b[38;5;241m=\u001b[39m\u001b[38;5;241m0\u001b[39m, flags\u001b[38;5;241m=\u001b[39m\u001b[38;5;241m0\u001b[39m):\n\u001b[1;32m    179\u001b[0m \u001b[38;5;250m    \u001b[39m\u001b[38;5;124;03m\"\"\"Return the string obtained by replacing the leftmost\u001b[39;00m\n\u001b[1;32m    180\u001b[0m \u001b[38;5;124;03m    non-overlapping occurrences of the pattern in string by the\u001b[39;00m\n\u001b[1;32m    181\u001b[0m \u001b[38;5;124;03m    replacement repl.  repl can be either a string or a callable;\u001b[39;00m\n\u001b[1;32m    182\u001b[0m \u001b[38;5;124;03m    if a string, backslash escapes in it are processed.  If it is\u001b[39;00m\n\u001b[1;32m    183\u001b[0m \u001b[38;5;124;03m    a callable, it's passed the Match object and must return\u001b[39;00m\n\u001b[1;32m    184\u001b[0m \u001b[38;5;124;03m    a replacement string to be used.\"\"\"\u001b[39;00m\n\u001b[0;32m--> 185\u001b[0m     \u001b[38;5;28;01mreturn\u001b[39;00m \u001b[43m_compile\u001b[49m\u001b[43m(\u001b[49m\u001b[43mpattern\u001b[49m\u001b[43m,\u001b[49m\u001b[43m \u001b[49m\u001b[43mflags\u001b[49m\u001b[43m)\u001b[49m\u001b[38;5;241;43m.\u001b[39;49m\u001b[43msub\u001b[49m\u001b[43m(\u001b[49m\u001b[43mrepl\u001b[49m\u001b[43m,\u001b[49m\u001b[43m \u001b[49m\u001b[43mstring\u001b[49m\u001b[43m,\u001b[49m\u001b[43m \u001b[49m\u001b[43mcount\u001b[49m\u001b[43m)\u001b[49m\n",
      "\u001b[0;31mTypeError\u001b[0m: expected string or bytes-like object, got 'Response'"
     ]
    }
   ],
   "source": [
    "\n",
    "linter = Linter(dialect='postgres')\n",
    "lint_result_tag = \"\"\n",
    "lint_result_rag = \"\"\n",
    "for i in range(len(df)):\n",
    "    # start_time_tag = time.perf_counter()\n",
    "    # gen_sql_tag = await run_tag_pipeline(df.iloc[i]['sql_prompt'], \"OpenAI\", 0.1, \"query_synthesis\")\n",
    "    # end_time_tag = time.perf_counter()\n",
    "    # latency_tag = (end_time_tag - start_time_tag)*1000 # convert seconds to milli seconds\n",
    "    # lint_return_tag = linter.lint_string(gen_sql_tag)\n",
    "    # if lint_return_tag.violations:\n",
    "    #     for violation in lint_return_tag.violations:\n",
    "    #         lint_result_tag += f\"- {violation.description} (Line: {violation.line_no}, Pos: {violation.line_pos})\\n\"\n",
    "    # else: \n",
    "    #     lint_result_tag = \"no error\"\n",
    "\n",
    "    start_time_rag = time.perf_counter()\n",
    "    gen_sql_rag = run_rag_pipeline(df.iloc[i]['sql_prompt'], \"OpenAI\", 0.1)\n",
    "    end_time_rag = time.perf_counter()\n",
    "    latency_rag = (end_time_rag - start_time_rag)*1000 # convert seconds to milli seconds\n",
    "    print(gen_sql_rag)\n",
    "    # lint_return_rag = linter.lint_string(gen_sql_rag)\n",
    "    # if lint_return_rag.violations:\n",
    "    #     for violation in lint_return_rag.violations:\n",
    "    #         lint_result_rag += f\"- {violation.description} (Line: {violation.line_no}, Pos: {violation.line_pos})\\n\"\n",
    "    # else: \n",
    "    #     lint_result_rag = \"no error\"\n",
    "\n",
    "    # compact_gen_sql_tag = re.sub(r\"\\s+\", \"\", gen_sql_tag).lower()\n",
    "    compact_gen_sql_rag = re.sub(r\"\\s+\", \"\", gen_sql_rag).lower()\n",
    "    compact_sql = re.sub(r\"\\s+\", \"\", df.iloc[i]['sql']).lower()\n",
    "\n",
    "    # print(compact_gen_sql_tag)\n",
    "    print(compact_gen_sql_rag)\n",
    "    print(compact_sql)\n",
    "    print(\"\\n\")\n",
    "\n",
    "    # df.loc[i, 'exp_gen_similarity_tag'] = SequenceMatcher(None, compact_sql, compact_gen_sql_tag).ratio()\n",
    "    # df.loc[i, 'exp_gen_len_diff_tag'] = len(compact_gen_sql_tag) - len(compact_sql)\n",
    "    # df.loc[i, 'is_exp_gen_resp_equal_tag'] = run_compare_query_results(compact_gen_sql_tag, compact_sql)\n",
    "    # df.loc[i, 'gen_sql_tag'] = gen_sql_tag\n",
    "    # df.loc[i, 'latency_tag'] = latency_tag\n",
    "\n",
    "    # df.loc[i, 'lint_result_rag'] = lint_result_rag\n",
    "    # df.loc[i, 'exp_gen_similarity_rag'] = SequenceMatcher(None, compact_sql, compact_gen_sql_rag).ratio()\n",
    "    # df.loc[i, 'exp_gen_len_diff_rag'] = len(compact_gen_sql_rag) - len(compact_sql)\n",
    "    # df.loc[i, 'is_exp_gen_resp_equal_rag'] = run_compare_query_results(compact_gen_sql_rag, compact_sql)\n",
    "    # df.loc[i, 'gen_sql_rag'] = gen_sql_rag\n",
    "    # df.loc[i, 'latency_rag'] = latency_rag\n",
    "    # df.loc[i, 'lint_result_rag'] = lint_result_rag\n",
    "\n",
    "\n",
    "df.head(2)\n"
   ]
  },
  {
   "cell_type": "code",
   "execution_count": 28,
   "metadata": {},
   "outputs": [
    {
     "name": "stdout",
     "output_type": "stream",
     "text": [
      "SELECT invoice_id, customer_id, invoice_date, total \n",
      "FROM invoice \n",
      "WHERE invoice_date::date IN ('2022-12-24', '2022-12-25', '2022-12-26', '2022-12-31', '2023-01-01')\n",
      "ORDER BY invoice_date;\n",
      "- Select targets should be on a new line unless there is only one select target. (Line: 1, Pos: 1)\n",
      "- Unnecessary trailing whitespace. (Line: 1, Pos: 52)\n",
      "- Unnecessary trailing whitespace. (Line: 2, Pos: 13)\n",
      "- Line is too long (98 > 80). (Line: 3, Pos: 1)\n",
      "- Files must end with a single trailing newline. (Line: 4, Pos: 22)\n",
      "\n",
      "[False, False, False, False, False, False, False, False, False]\n"
     ]
    }
   ],
   "source": [
    "print(df.iloc[0]['gen_sql'])\n",
    "print(df.iloc[0]['lint_result'])\n",
    "print(df['is_exp_gen_resp_equal'].tolist())"
   ]
  },
  {
   "cell_type": "code",
   "execution_count": null,
   "metadata": {},
   "outputs": [],
   "source": [
    "print(df.iloc[3]['gen_sql'])\n",
    "print(df.iloc[3]['lint_result'])"
   ]
  }
 ],
 "metadata": {
  "kernelspec": {
   "display_name": "venv",
   "language": "python",
   "name": "python3"
  },
  "language_info": {
   "codemirror_mode": {
    "name": "ipython",
    "version": 3
   },
   "file_extension": ".py",
   "mimetype": "text/x-python",
   "name": "python",
   "nbconvert_exporter": "python",
   "pygments_lexer": "ipython3",
   "version": "3.11.2"
  }
 },
 "nbformat": 4,
 "nbformat_minor": 2
}
