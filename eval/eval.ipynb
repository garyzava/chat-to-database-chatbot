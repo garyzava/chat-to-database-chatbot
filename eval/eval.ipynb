{
 "cells": [
  {
   "cell_type": "markdown",
   "metadata": {},
   "source": [
    "Evaluation Space"
   ]
  },
  {
   "cell_type": "code",
   "execution_count": 26,
   "metadata": {},
   "outputs": [],
   "source": [
    "import numpy as np\n",
    "import pandas as pd\n",
    "import sys\n",
    "import os\n",
    "import time\n",
    "from sqlfluff.core import Linter\n",
    "import re\n",
    "from difflib import SequenceMatcher\n",
    "from sqlrespcompare import run_compare_query_results"
   ]
  },
  {
   "cell_type": "code",
   "execution_count": 9,
   "metadata": {},
   "outputs": [
    {
     "name": "stdout",
     "output_type": "stream",
     "text": [
      "['/usr/lib/python311.zip', '/usr/lib/python3.11', '/usr/lib/python3.11/lib-dynload', '', '/home/kengqiangmk/Projects/chat-to-database-chatbot/venv/lib/python3.11/site-packages', '/home/kengqiangmk/Projects/chat-to-database-chatbot/chat2dbchatbot']\n"
     ]
    }
   ],
   "source": [
    "print(sys.path)"
   ]
  },
  {
   "cell_type": "code",
   "execution_count": 3,
   "metadata": {},
   "outputs": [],
   "source": [
    "\n",
    "\n",
    "# # Get the absolute path of the tools folder\n",
    "project_dir = os.path.abspath(\"..\")  # Assuming the eval folder is in the project folder\n",
    "chat2dbchatbot_dir = os.path.join(project_dir, \"chat2dbchatbot\")\n",
    "\n",
    "# # Add the tools directory to the system path\n",
    "sys.path.append(chat2dbchatbot_dir)\n"
   ]
  },
  {
   "cell_type": "code",
   "execution_count": 10,
   "metadata": {},
   "outputs": [],
   "source": [
    "from tools.tagsql import run_tag_pipeline\n",
    "# from tools.rag import run_rag_pipeline"
   ]
  },
  {
   "cell_type": "code",
   "execution_count": 16,
   "metadata": {},
   "outputs": [
    {
     "data": {
      "text/html": [
       "<div>\n",
       "<style scoped>\n",
       "    .dataframe tbody tr th:only-of-type {\n",
       "        vertical-align: middle;\n",
       "    }\n",
       "\n",
       "    .dataframe tbody tr th {\n",
       "        vertical-align: top;\n",
       "    }\n",
       "\n",
       "    .dataframe thead th {\n",
       "        text-align: right;\n",
       "    }\n",
       "</style>\n",
       "<table border=\"1\" class=\"dataframe\">\n",
       "  <thead>\n",
       "    <tr style=\"text-align: right;\">\n",
       "      <th></th>\n",
       "      <th>sql_complexity</th>\n",
       "      <th>sql_complexity_description</th>\n",
       "      <th>sql_prompt</th>\n",
       "      <th>sql</th>\n",
       "    </tr>\n",
       "  </thead>\n",
       "  <tbody>\n",
       "    <tr>\n",
       "      <th>0</th>\n",
       "      <td>basic SQL</td>\n",
       "      <td>basic SQL with a simple select statement</td>\n",
       "      <td>Show all invoices that were made during Christ...</td>\n",
       "      <td>SELECT * FROM invoice WHERE (TO_CHAR(invoice_d...</td>\n",
       "    </tr>\n",
       "    <tr>\n",
       "      <th>1</th>\n",
       "      <td>single join</td>\n",
       "      <td>only one join (specify inner, outer, cross)</td>\n",
       "      <td>Find the top 3 artists by total albums</td>\n",
       "      <td>SELECT AR.name, COUNT(AR.name) as TotalAlbums ...</td>\n",
       "    </tr>\n",
       "    <tr>\n",
       "      <th>2</th>\n",
       "      <td>aggregation and single join</td>\n",
       "      <td>aggregation functions (COUNT, SUM, AVG, MIN, M...</td>\n",
       "      <td>list classic composers and their corresponding...</td>\n",
       "      <td>SELECT T.composer, AVG(T.milliseconds) from tr...</td>\n",
       "    </tr>\n",
       "    <tr>\n",
       "      <th>3</th>\n",
       "      <td>basic SQL</td>\n",
       "      <td>basic SQL with a simple select statement</td>\n",
       "      <td>list all the countries our customers are from</td>\n",
       "      <td>SELECT distinct country from customer;</td>\n",
       "    </tr>\n",
       "    <tr>\n",
       "      <th>4</th>\n",
       "      <td>simple aggregation</td>\n",
       "      <td>basic SQL with a simple select statement</td>\n",
       "      <td>What is the total invoice amount by country?</td>\n",
       "      <td>SELECT billing_country, SUM(total) from invoic...</td>\n",
       "    </tr>\n",
       "  </tbody>\n",
       "</table>\n",
       "</div>"
      ],
      "text/plain": [
       "                sql_complexity  \\\n",
       "0                    basic SQL   \n",
       "1                  single join   \n",
       "2  aggregation and single join   \n",
       "3                    basic SQL   \n",
       "4           simple aggregation   \n",
       "\n",
       "                          sql_complexity_description  \\\n",
       "0           basic SQL with a simple select statement   \n",
       "1        only one join (specify inner, outer, cross)   \n",
       "2  aggregation functions (COUNT, SUM, AVG, MIN, M...   \n",
       "3           basic SQL with a simple select statement   \n",
       "4           basic SQL with a simple select statement   \n",
       "\n",
       "                                          sql_prompt  \\\n",
       "0  Show all invoices that were made during Christ...   \n",
       "1             Find the top 3 artists by total albums   \n",
       "2  list classic composers and their corresponding...   \n",
       "3      list all the countries our customers are from   \n",
       "4       What is the total invoice amount by country?   \n",
       "\n",
       "                                                 sql  \n",
       "0  SELECT * FROM invoice WHERE (TO_CHAR(invoice_d...  \n",
       "1  SELECT AR.name, COUNT(AR.name) as TotalAlbums ...  \n",
       "2  SELECT T.composer, AVG(T.milliseconds) from tr...  \n",
       "3             SELECT distinct country from customer;  \n",
       "4  SELECT billing_country, SUM(total) from invoic...  "
      ]
     },
     "execution_count": 16,
     "metadata": {},
     "output_type": "execute_result"
    }
   ],
   "source": [
    "eval_file_path = './data/custom_db_exp.csv'\n",
    "df = pd.read_csv(eval_file_path)\n",
    "df.head()"
   ]
  },
  {
   "cell_type": "code",
   "execution_count": 31,
   "metadata": {},
   "outputs": [
    {
     "name": "stdout",
     "output_type": "stream",
     "text": [
      "selectinvoice_id,customer_id,invoice_date,totalfrominvoicewhereinvoice_date::datein('2021-12-24','2021-12-25','2021-12-26','2021-12-31','2022-01-01');\n",
      "select*frominvoicewhere(to_char(invoice_date,'mm-dd')in('12-24','12-25','12-26','12-31','01-01'));\n",
      "selectartist.name,count(album.album_id)astotal_albumsfromartistjoinalbumonartist.artist_id=album.artist_idgroupbyartist.nameorderbytotal_albumsdesclimit3;\n",
      "selectar.name,count(ar.name)astotalalbumsfromalbumalinnerjoinartistaronal.artist_id=ar.artist_idgroupbyar.nameorderbytotalalbumsdesclimit3;\n",
      "selectcomposer,avg(milliseconds)fromtrackinnerjoingenreontrack.genre_id=genre.genre_idwheregenre.name='classic'groupbycomposer;\n",
      "selectt.composer,avg(t.milliseconds)fromtracktleftjoingenregont.genre_id=g.genre_idwhereg.namelike'%classic%'groupbyt.composer;\n",
      "selectdistinctcountryfromcustomer\n",
      "selectdistinctcountryfromcustomer;\n",
      "selectbilling_country,sum(total)astotal_invoice_amountfrominvoicegroupbybilling_countryorderbytotal_invoice_amountdesc;\n",
      "selectbilling_country,sum(total)frominvoicegroupbybilling_country;\n",
      "selectplaylist_id,namefromplaylist;\n",
      "selectnamefromplaylist;\n",
      "selectfirst_name,last_namefromemployeewherereports_to=(selectemployee_idfromemployeewherefirst_name='andrew'andlast_name='adams')\n",
      "selectconcat(first_name,'',last_name)asnamefromemployeewherereports_toin(selectemployee_idfromemployeewherefirst_name='andrew'andlast_name='adams')\n",
      "selectplaylist.nameasplaylist_name,track.nameastrack_namefromplaylistjoinplaylist_trackonplaylist.playlist_id=playlist_track.playlist_idjointrackonplaylist_track.track_id=track.track_idorderbyplaylist_name,track_name;\n",
      "selectp.nameasplaylistname,t.nameastracknamefromplaylist_trackptleftjoinplaylistponpt.playlist_id=p.playlist_idleftjointracktonpt.track_id=t.track_idorderbyplaylistname;\n",
      "selectcount(*)fromemployee;\n",
      "selectcount(*)fromemployee\n"
     ]
    },
    {
     "data": {
      "text/html": [
       "<div>\n",
       "<style scoped>\n",
       "    .dataframe tbody tr th:only-of-type {\n",
       "        vertical-align: middle;\n",
       "    }\n",
       "\n",
       "    .dataframe tbody tr th {\n",
       "        vertical-align: top;\n",
       "    }\n",
       "\n",
       "    .dataframe thead th {\n",
       "        text-align: right;\n",
       "    }\n",
       "</style>\n",
       "<table border=\"1\" class=\"dataframe\">\n",
       "  <thead>\n",
       "    <tr style=\"text-align: right;\">\n",
       "      <th></th>\n",
       "      <th>sql_complexity</th>\n",
       "      <th>sql_complexity_description</th>\n",
       "      <th>sql_prompt</th>\n",
       "      <th>sql</th>\n",
       "      <th>gen_sql</th>\n",
       "      <th>latency</th>\n",
       "      <th>lint_result</th>\n",
       "      <th>exp_gen_similarity</th>\n",
       "      <th>exp_gen_len_diff</th>\n",
       "      <th>is_exp_gen_resp_equal</th>\n",
       "    </tr>\n",
       "  </thead>\n",
       "  <tbody>\n",
       "    <tr>\n",
       "      <th>0</th>\n",
       "      <td>basic SQL</td>\n",
       "      <td>basic SQL with a simple select statement</td>\n",
       "      <td>Show all invoices that were made during Christ...</td>\n",
       "      <td>SELECT * FROM invoice WHERE (TO_CHAR(invoice_d...</td>\n",
       "      <td>SELECT invoice_id, customer_id, invoice_date, ...</td>\n",
       "      <td>18419.253565</td>\n",
       "      <td>- Select targets should be on a new line unles...</td>\n",
       "      <td>0.637097</td>\n",
       "      <td>52.0</td>\n",
       "      <td>False</td>\n",
       "    </tr>\n",
       "    <tr>\n",
       "      <th>1</th>\n",
       "      <td>single join</td>\n",
       "      <td>only one join (specify inner, outer, cross)</td>\n",
       "      <td>Find the top 3 artists by total albums</td>\n",
       "      <td>SELECT AR.name, COUNT(AR.name) as TotalAlbums ...</td>\n",
       "      <td>SELECT artist.name, COUNT(album.album_id) AS t...</td>\n",
       "      <td>8342.962453</td>\n",
       "      <td>- Select targets should be on a new line unles...</td>\n",
       "      <td>0.819113</td>\n",
       "      <td>15.0</td>\n",
       "      <td>False</td>\n",
       "    </tr>\n",
       "  </tbody>\n",
       "</table>\n",
       "</div>"
      ],
      "text/plain": [
       "  sql_complexity                   sql_complexity_description  \\\n",
       "0      basic SQL     basic SQL with a simple select statement   \n",
       "1    single join  only one join (specify inner, outer, cross)   \n",
       "\n",
       "                                          sql_prompt  \\\n",
       "0  Show all invoices that were made during Christ...   \n",
       "1             Find the top 3 artists by total albums   \n",
       "\n",
       "                                                 sql  \\\n",
       "0  SELECT * FROM invoice WHERE (TO_CHAR(invoice_d...   \n",
       "1  SELECT AR.name, COUNT(AR.name) as TotalAlbums ...   \n",
       "\n",
       "                                             gen_sql       latency  \\\n",
       "0  SELECT invoice_id, customer_id, invoice_date, ...  18419.253565   \n",
       "1  SELECT artist.name, COUNT(album.album_id) AS t...   8342.962453   \n",
       "\n",
       "                                         lint_result  exp_gen_similarity  \\\n",
       "0  - Select targets should be on a new line unles...            0.637097   \n",
       "1  - Select targets should be on a new line unles...            0.819113   \n",
       "\n",
       "   exp_gen_len_diff is_exp_gen_resp_equal  \n",
       "0              52.0                 False  \n",
       "1              15.0                 False  "
      ]
     },
     "execution_count": 31,
     "metadata": {},
     "output_type": "execute_result"
    }
   ],
   "source": [
    "\n",
    "linter = Linter(dialect='postgres')\n",
    "lint_result = \"\"\n",
    "for i in range(len(df)):\n",
    "    start_time = time.perf_counter()\n",
    "    gen_sql = await run_tag_pipeline(df.iloc[i]['sql_prompt'], \"OpenAI\", 0.1, \"query_synthesis\")\n",
    "    end_time = time.perf_counter()\n",
    "    latency = (end_time - start_time)*1000 # convert seconds to milli seconds\n",
    "    lint_return = linter.lint_string(gen_sql)\n",
    "    if lint_return.violations:\n",
    "        for violation in lint_return.violations:\n",
    "            lint_result += f\"- {violation.description} (Line: {violation.line_no}, Pos: {violation.line_pos})\\n\"\n",
    "    else: \n",
    "        lint_result = \"no error\"\n",
    "    compact_gen_sql = re.sub(r\"\\s+\", \"\", gen_sql).lower()\n",
    "    compact_sql = re.sub(r\"\\s+\", \"\", df.iloc[i]['sql']).lower()\n",
    "    print(compact_gen_sql)\n",
    "    print(compact_sql)\n",
    "    df.loc[i, 'exp_gen_similarity'] = SequenceMatcher(None, compact_sql, compact_gen_sql).ratio()\n",
    "    df.loc[i, 'exp_gen_len_diff'] = len(compact_gen_sql) - len(compact_sql)\n",
    "    df.loc[i, 'is_exp_gen_resp_equal'] = run_compare_query_results(compact_gen_sql, compact_sql)\n",
    "    df.loc[i, 'gen_sql'] = gen_sql\n",
    "    df.loc[i, 'latency'] = latency\n",
    "    df.loc[i, 'lint_result'] = lint_result\n",
    "\n",
    "df.head(2)\n"
   ]
  },
  {
   "cell_type": "code",
   "execution_count": 28,
   "metadata": {},
   "outputs": [
    {
     "name": "stdout",
     "output_type": "stream",
     "text": [
      "SELECT invoice_id, customer_id, invoice_date, total \n",
      "FROM invoice \n",
      "WHERE invoice_date::date IN ('2022-12-24', '2022-12-25', '2022-12-26', '2022-12-31', '2023-01-01')\n",
      "ORDER BY invoice_date;\n",
      "- Select targets should be on a new line unless there is only one select target. (Line: 1, Pos: 1)\n",
      "- Unnecessary trailing whitespace. (Line: 1, Pos: 52)\n",
      "- Unnecessary trailing whitespace. (Line: 2, Pos: 13)\n",
      "- Line is too long (98 > 80). (Line: 3, Pos: 1)\n",
      "- Files must end with a single trailing newline. (Line: 4, Pos: 22)\n",
      "\n",
      "[False, False, False, False, False, False, False, False, False]\n"
     ]
    }
   ],
   "source": [
    "print(df.iloc[0]['gen_sql'])\n",
    "print(df.iloc[0]['lint_result'])\n",
    "print(df['is_exp_gen_resp_equal'].tolist())"
   ]
  },
  {
   "cell_type": "code",
   "execution_count": null,
   "metadata": {},
   "outputs": [],
   "source": [
    "print(df.iloc[3]['gen_sql'])\n",
    "print(df.iloc[3]['lint_result'])"
   ]
  }
 ],
 "metadata": {
  "kernelspec": {
   "display_name": "venv",
   "language": "python",
   "name": "python3"
  },
  "language_info": {
   "codemirror_mode": {
    "name": "ipython",
    "version": 3
   },
   "file_extension": ".py",
   "mimetype": "text/x-python",
   "name": "python",
   "nbconvert_exporter": "python",
   "pygments_lexer": "ipython3",
   "version": "3.11.2"
  }
 },
 "nbformat": 4,
 "nbformat_minor": 2
}
